{
 "cells": [
  {
   "cell_type": "code",
   "execution_count": 1,
   "metadata": {},
   "outputs": [],
   "source": [
    "# Importing the libraries we're going to use.\n",
    "import matplotlib.pyplot as plt\n",
    "import pandas as pd\n",
    "\n",
    "from pyspark.sql import SparkSession\n",
    "from pyspark.sql.types import StructType, StructField, TimestampType, DoubleType\n",
    "from pyspark.sql.functions import coalesce, col, lag, lit, round, sum, avg, radians, acos, sin, cos\n",
    "from pyspark.sql.window import Window\n",
    "\n",
    "import findspark\n",
    "import gpxpy\n",
    "\n",
    "# This library helps to the Python session within the current Jupyter Kernel to find Spark in the container. \n",
    "findspark.init()"
   ]
  },
  {
   "cell_type": "code",
   "execution_count": 2,
   "metadata": {},
   "outputs": [
    {
     "name": "stderr",
     "output_type": "stream",
     "text": [
      "WARNING: An illegal reflective access operation has occurred\n",
      "WARNING: Illegal reflective access by org.apache.spark.unsafe.Platform (file:/opt/spark-3.2.1-bin-hadoop2.7/jars/spark-unsafe_2.12-3.2.1.jar) to constructor java.nio.DirectByteBuffer(long,int)\n",
      "WARNING: Please consider reporting this to the maintainers of org.apache.spark.unsafe.Platform\n",
      "WARNING: Use --illegal-access=warn to enable warnings of further illegal reflective access operations\n",
      "WARNING: All illegal access operations will be denied in a future release\n",
      "Using Spark's default log4j profile: org/apache/spark/log4j-defaults.properties\n",
      "Setting default log level to \"WARN\".\n",
      "To adjust logging level use sc.setLogLevel(newLevel). For SparkR, use setLogLevel(newLevel).\n",
      "22/06/08 00:30:57 WARN NativeCodeLoader: Unable to load native-hadoop library for your platform... using builtin-java classes where applicable\n",
      "22/06/08 00:30:57 WARN SparkConf: Note that spark.local.dir will be overridden by the value set by the cluster manager (via SPARK_LOCAL_DIRS in mesos/standalone/kubernetes and LOCAL_DIRS in YARN).\n",
      "22/06/08 00:30:57 WARN Utils: The configured local directories are not expected to be URIs; however, got suspicious values [file:/tmp/spark]. Please check your configured local directories.\n",
      "22/06/08 00:30:58 WARN Utils: Service 'SparkUI' could not bind on port 4040. Attempting port 4041.\n"
     ]
    },
    {
     "data": {
      "text/html": [
       "\n",
       "            <div>\n",
       "                <p><b>SparkSession - hive</b></p>\n",
       "                \n",
       "        <div>\n",
       "            <p><b>SparkContext</b></p>\n",
       "\n",
       "            <p><a href=\"http://07172e6b2a61:4041\">Spark UI</a></p>\n",
       "\n",
       "            <dl>\n",
       "              <dt>Version</dt>\n",
       "                <dd><code>v3.2.1</code></dd>\n",
       "              <dt>Master</dt>\n",
       "                <dd><code>local</code></dd>\n",
       "              <dt>AppName</dt>\n",
       "                <dd><code>GPSTrackingSystem</code></dd>\n",
       "            </dl>\n",
       "        </div>\n",
       "        \n",
       "            </div>\n",
       "        "
      ],
      "text/plain": [
       "<pyspark.sql.session.SparkSession at 0xffff63668100>"
      ]
     },
     "metadata": {},
     "output_type": "display_data"
    },
    {
     "data": {
      "text/html": [
       "\n",
       "        <div>\n",
       "            <p><b>SparkContext</b></p>\n",
       "\n",
       "            <p><a href=\"http://07172e6b2a61:4041\">Spark UI</a></p>\n",
       "\n",
       "            <dl>\n",
       "              <dt>Version</dt>\n",
       "                <dd><code>v3.2.1</code></dd>\n",
       "              <dt>Master</dt>\n",
       "                <dd><code>local</code></dd>\n",
       "              <dt>AppName</dt>\n",
       "                <dd><code>GPSTrackingSystem</code></dd>\n",
       "            </dl>\n",
       "        </div>\n",
       "        "
      ],
      "text/plain": [
       "<SparkContext master=local appName=GPSTrackingSystem>"
      ]
     },
     "metadata": {},
     "output_type": "display_data"
    }
   ],
   "source": [
    "# Innitialize the Spark Session and get the SparkContext from it.\n",
    "spark = SparkSession\\\n",
    "    .builder\\\n",
    "    .enableHiveSupport()\\\n",
    "    .getOrCreate()\n",
    "\n",
    "sc = spark.sparkContext\n",
    "\n",
    "display(spark, sc)"
   ]
  },
  {
   "cell_type": "code",
   "execution_count": 5,
   "metadata": {},
   "outputs": [
    {
     "name": "stdout",
     "output_type": "stream",
     "text": [
      "+-------------------+-----------------+------------------+\n",
      "|               time|         latitude|         longitude|\n",
      "+-------------------+-----------------+------------------+\n",
      "|2022-03-04 00:04:34|6.180892554117535|-75.57729642845278|\n",
      "|2022-03-04 00:04:35|6.180912000132893|-75.57729458443409|\n",
      "|2022-03-04 00:04:43|6.180921471683477|-75.57731159969752|\n",
      "|2022-03-04 00:04:46|6.180897499440406|-75.57727027691489|\n",
      "|2022-03-04 00:04:48|6.180873904382978|-75.57727589279001|\n",
      "|2022-03-04 00:04:49|6.180848758673464|-75.57726575068718|\n",
      "|2022-03-04 00:04:50|6.180861708713864|-75.57727740153258|\n",
      "|2022-03-04 00:04:51|6.180877131415699|-75.57728913619702|\n",
      "|2022-03-04 00:05:21|6.180952820001338|-75.57734990499502|\n",
      "|2022-03-04 00:05:23|6.181004368705843|-75.57722702629452|\n",
      "+-------------------+-----------------+------------------+\n",
      "only showing top 10 rows\n",
      "\n"
     ]
    }
   ],
   "source": [
    "# Defines the struct for the DataFrame\n",
    "columns = StructType([\n",
    "    StructField('time', TimestampType(), True),\n",
    "    StructField('latitude', DoubleType(), True),\n",
    "    StructField('longitude', DoubleType(), True)\n",
    "])\n",
    "\n",
    "# Opens and parse the GPS track stored within the *.gpx file.\n",
    "# After parsing the file, the geo point are then loaded into a Spark DataFrame.\n",
    "with open('/opt/etl/data/vehicles/motorcycle/AAA_11B/recovery.05-Mar-2022.1025.gpx') as fr:\n",
    "    gpx_parser = gpxpy.parse(fr)\n",
    "    raw_geo_df = spark.createDataFrame(map(\n",
    "        lambda p: (\n",
    "            p.time,\n",
    "            p.latitude,\n",
    "            p.longitude\n",
    "        ),\n",
    "        gpx_parser.tracks[0].segments[0].points\n",
    "    ), columns).orderBy(col('time'), asceding=True)\n",
    "\n",
    "raw_geo_df.show(10)"
   ]
  },
  {
   "cell_type": "code",
   "execution_count": 6,
   "metadata": {},
   "outputs": [
    {
     "name": "stderr",
     "output_type": "stream",
     "text": [
      "22/06/08 00:36:33 WARN WindowExec: No Partition Defined for Window operation! Moving all data to a single partition, this can cause serious performance degradation.\n",
      "22/06/08 00:36:33 WARN WindowExec: No Partition Defined for Window operation! Moving all data to a single partition, this can cause serious performance degradation.\n",
      "22/06/08 00:36:38 WARN WindowExec: No Partition Defined for Window operation! Moving all data to a single partition, this can cause serious performance degradation.\n"
     ]
    },
    {
     "name": "stdout",
     "output_type": "stream",
     "text": [
      "+-------------------+-----------------+------------------+-------------------+-----------------+------------------+--------------------+--------------------+---------+\n",
      "|               time|         latitude|         longitude|           old_time|     old_latitude|     old_longitude|         distance_km|  time_elapsed_hours|speed_kmh|\n",
      "+-------------------+-----------------+------------------+-------------------+-----------------+------------------+--------------------+--------------------+---------+\n",
      "|2022-03-04 00:04:35|6.180912000132893|-75.57729458443409|2022-03-04 00:04:34|6.180892554117535|-75.57729642845278|0.003049778146654386|2.777777777777778E-4|    10.98|\n",
      "|2022-03-04 00:04:43|6.180921471683477|-75.57731159969752|2022-03-04 00:04:35|6.180912000132893|-75.57729458443409|0.001489004303834...|0.002222222222222...|     0.67|\n",
      "|2022-03-04 00:04:46|6.180897499440406|-75.57727027691489|2022-03-04 00:04:43|6.180921471683477|-75.57731159969752|0.003759251906639...|8.333333333333334E-4|     4.51|\n",
      "|2022-03-04 00:04:48|6.180873904382978|-75.57727589279001|2022-03-04 00:04:46|6.180897499440406|-75.57727027691489|0.003700047389159...|5.555555555555556E-4|     6.66|\n",
      "|2022-03-04 00:04:49|6.180848758673464|-75.57726575068718|2022-03-04 00:04:48|6.180873904382978|-75.57727589279001| 0.00394296524650533|2.777777777777778E-4|    14.19|\n",
      "|2022-03-04 00:04:50|6.180861708713864|-75.57727740153258|2022-03-04 00:04:49|6.180848758673464|-75.57726575068718|0.002029488055009869|2.777777777777778E-4|     7.31|\n",
      "|2022-03-04 00:04:51|6.180877131415699|-75.57728913619702|2022-03-04 00:04:50|6.180861708713864|-75.57727740153258|0.002416661939982...|2.777777777777778E-4|      8.7|\n",
      "|2022-03-04 00:05:21|6.180952820001338|-75.57734990499502|2022-03-04 00:04:51|6.180877131415699|-75.57728913619702|0.011867690331477537|0.008333333333333333|     1.42|\n",
      "|2022-03-04 00:05:23|6.181004368705843|-75.57722702629452|2022-03-04 00:05:21|6.180952820001338|-75.57734990499502|0.008082346994834502|5.555555555555556E-4|    14.55|\n",
      "|2022-03-04 00:05:36|6.180938780313526|-75.57724798105245|2022-03-04 00:05:23|6.181004368705843|-75.57722702629452| 0.01028418656260649|0.003611111111111111|     2.85|\n",
      "+-------------------+-----------------+------------------+-------------------+-----------------+------------------+--------------------+--------------------+---------+\n",
      "only showing top 10 rows\n",
      "\n"
     ]
    },
    {
     "name": "stderr",
     "output_type": "stream",
     "text": [
      "22/06/08 00:36:38 WARN WindowExec: No Partition Defined for Window operation! Moving all data to a single partition, this can cause serious performance degradation.\n",
      "\r\n",
      "                                                                                \r"
     ]
    }
   ],
   "source": [
    "# Defines the haversine formula within a Spark UDF for retrieving the accurate distances between points.\n",
    "# Refer to https://en.wikipedia.org/wiki/Haversine_formula for deeper knowledge of this formula.\n",
    "def haversine(lat1, lon1, lat2, lon2):\n",
    "    \"\"\"\n",
    "    Allows to calculate distance between two points using\n",
    "    Haversine, reference https://en.wikipedia.org/wiki/Haversine_formula\n",
    "    \"\"\"\n",
    "    # Convert decimal degrees to radians \n",
    "    lon1, lat1, lon2, lat2 = map(radians, [lon1, lat1, lon2, lat2])\n",
    "    # haversine formula \n",
    "    distance = acos(sin(lat1) * sin(lat2) + cos(lat1) * cos(lat2) * cos(lat1 - lat2))\n",
    "    # Radius of earth in kilometers is 6371.01\n",
    "\n",
    "    return distance * 6371.01\n",
    "\n",
    "# Created a Windows with 1 lag to apply it into the latitude, longitude and times.\n",
    "w = Window().partitionBy().orderBy(col('time'))\n",
    "\n",
    "# Applies the window into the DataFrame containing the Geo points.\n",
    "# This will shift by 1 position all the rows within the DataFrame.\n",
    "windowed_df = raw_geo_df.select(\n",
    "    '*',\n",
    "    lag(col('time')).over(w).alias('old_time'),\n",
    "    lag(col('latitude')).over(w).alias('old_latitude'),\n",
    "    lag(col('longitude')).over(w).alias('old_longitude')\n",
    ")\n",
    "\n",
    "# Adds the columns:\n",
    "# distance_km: float - distance between point P(n) and P(n-1)\n",
    "# time_elapsed_hours: long - time elapsed between meassurements T(n) and T(n-1)\n",
    "# speed_kmh: float - speed at a given time in km/h\n",
    "consolidated_df = windowed_df\\\n",
    "    .withColumn('distance_km', coalesce(haversine(col('old_latitude'), col('old_longitude'), col('latitude'), col('longitude')), lit(0)))\\\n",
    "    .withColumn('time_elapsed_hours', coalesce(col('time').cast('long') - col('old_time').cast('long'), lit(0)) / 3600)\\\n",
    "    .withColumn('speed_kmh', round(coalesce(col('distance_km') / col('time_elapsed_hours'), lit(0)), 2)).na.drop()\n",
    "\n",
    "consolidated_df.show(10)"
   ]
  },
  {
   "cell_type": "code",
   "execution_count": 7,
   "metadata": {},
   "outputs": [
    {
     "name": "stderr",
     "output_type": "stream",
     "text": [
      "22/06/08 00:36:55 WARN WindowExec: No Partition Defined for Window operation! Moving all data to a single partition, this can cause serious performance degradation.\n",
      "22/06/08 00:36:55 WARN WindowExec: No Partition Defined for Window operation! Moving all data to a single partition, this can cause serious performance degradation.\n",
      "22/06/08 00:36:59 WARN WindowExec: No Partition Defined for Window operation! Moving all data to a single partition, this can cause serious performance degradation.\n",
      "22/06/08 00:36:59 WARN WindowExec: No Partition Defined for Window operation! Moving all data to a single partition, this can cause serious performance degradation.\n",
      "22/06/08 00:37:01 WARN WindowExec: No Partition Defined for Window operation! Moving all data to a single partition, this can cause serious performance degradation.\n",
      "22/06/08 00:37:05 WARN WindowExec: No Partition Defined for Window operation! Moving all data to a single partition, this can cause serious performance degradation.\n",
      "22/06/08 00:37:05 WARN WindowExec: No Partition Defined for Window operation! Moving all data to a single partition, this can cause serious performance degradation.\n",
      "                                                                                \r"
     ]
    },
    {
     "data": {
      "text/plain": [
       "{'total_time_ride_hours': 39.35250000000208,\n",
       " 'total_distance_ride_km': 136.79343619124174,\n",
       " 'avg_speed_ride_kmh': 23.21257221236079,\n",
       " 'avg_measurement_interval_seconds': 7.620300145231966}"
      ]
     },
     "metadata": {},
     "output_type": "display_data"
    }
   ],
   "source": [
    "# Creates a Pandas DataFrame after deleting any NA found in the DataFrame\n",
    "pandas_df = consolidated_df.na.drop().toPandas().set_index('time')\n",
    "\n",
    "# Gets a summary of:\n",
    "# total_time_ride_hours: float - total time taken within the ride from start to end in hours.\n",
    "# total_distance_km: float - total distance rode from start to end.\n",
    "# avg_speed_ride_kmh: float - Average speed during the entire ride.\n",
    "# avg_measurement_interval_seconds: float - Average time between intervals in seconds.\n",
    "summary_df = consolidated_df.na.drop().select(\n",
    "    sum('time_elapsed_hours').alias('total_time_ride_hours'),\n",
    "    sum('distance_km').alias('total_distance_ride_km'),\n",
    "    avg('speed_kmh').alias('avg_speed_ride_kmh'),\n",
    "    (avg('time_elapsed_hours') * 3600).alias('avg_measurement_interval_seconds')\n",
    ")\n",
    "\n",
    "# Converts the summary DataFrame into a Python dictionary.\n",
    "summary = summary_df.rdd.map(lambda row: row.asDict()).collect()[0]\n",
    "\n",
    "display(summary)"
   ]
  },
  {
   "cell_type": "code",
   "execution_count": 8,
   "metadata": {},
   "outputs": [
    {
     "data": {
      "text/plain": [
       "<matplotlib.axes._subplots.AxesSubplot at 0xffff6097b430>"
      ]
     },
     "execution_count": 8,
     "metadata": {},
     "output_type": "execute_result"
    },
    {
     "data": {
      "image/png": "[encoded data removed]",
      "text/plain": [
       "<Figure size 432x288 with 1 Axes>"
      ]
     },
     "metadata": {
      "needs_background": "light"
     },
     "output_type": "display_data"
    }
   ],
   "source": [
    "# Plots the speed during the entire ride.\n",
    "# There are several peaks that look abnormal in the diagram.\n",
    "# This could mean an error of the GPS tracking app while was recording the Geolocations.\n",
    "# This can be solved by normalizing the Time Series, cleaning the raw data, replacing the points by the average of P(n-1) and P(n+1),\n",
    "# removing those point or setting a range to ignore those gaps.\n",
    "\n",
    "pandas_df['speed_kmh'].plot()"
   ]
  },
  {
   "cell_type": "code",
   "execution_count": 9,
   "metadata": {},
   "outputs": [
    {
     "data": {
      "text/html": [
       "<div>\n",
       "<style scoped>\n",
       "    .dataframe tbody tr th:only-of-type {\n",
       "        vertical-align: middle;\n",
       "    }\n",
       "\n",
       "    .dataframe tbody tr th {\n",
       "        vertical-align: top;\n",
       "    }\n",
       "\n",
       "    .dataframe thead th {\n",
       "        text-align: right;\n",
       "    }\n",
       "</style>\n",
       "<table border=\"1\" class=\"dataframe\">\n",
       "  <thead>\n",
       "    <tr style=\"text-align: right;\">\n",
       "      <th></th>\n",
       "      <th>latitude</th>\n",
       "      <th>longitude</th>\n",
       "      <th>old_time</th>\n",
       "      <th>old_latitude</th>\n",
       "      <th>old_longitude</th>\n",
       "      <th>distance_km</th>\n",
       "      <th>time_elapsed_hours</th>\n",
       "      <th>speed_kmh</th>\n",
       "    </tr>\n",
       "    <tr>\n",
       "      <th>time</th>\n",
       "      <th></th>\n",
       "      <th></th>\n",
       "      <th></th>\n",
       "      <th></th>\n",
       "      <th></th>\n",
       "      <th></th>\n",
       "      <th></th>\n",
       "      <th></th>\n",
       "    </tr>\n",
       "  </thead>\n",
       "  <tbody>\n",
       "    <tr>\n",
       "      <th>2022-03-04 01:29:39</th>\n",
       "      <td>6.134296</td>\n",
       "      <td>-75.619850</td>\n",
       "      <td>2022-03-04 01:29:38</td>\n",
       "      <td>6.133525</td>\n",
       "      <td>-75.619258</td>\n",
       "      <td>0.120884</td>\n",
       "      <td>0.000278</td>\n",
       "      <td>435.18</td>\n",
       "    </tr>\n",
       "    <tr>\n",
       "      <th>2022-03-04 01:33:15</th>\n",
       "      <td>6.133692</td>\n",
       "      <td>-75.619152</td>\n",
       "      <td>2022-03-04 01:33:14</td>\n",
       "      <td>6.133378</td>\n",
       "      <td>-75.619179</td>\n",
       "      <td>0.049192</td>\n",
       "      <td>0.000278</td>\n",
       "      <td>177.09</td>\n",
       "    </tr>\n",
       "    <tr>\n",
       "      <th>2022-03-04 01:45:01</th>\n",
       "      <td>6.133706</td>\n",
       "      <td>-75.619164</td>\n",
       "      <td>2022-03-04 01:45:00</td>\n",
       "      <td>6.133419</td>\n",
       "      <td>-75.619219</td>\n",
       "      <td>0.045103</td>\n",
       "      <td>0.000278</td>\n",
       "      <td>162.37</td>\n",
       "    </tr>\n",
       "    <tr>\n",
       "      <th>2022-03-04 01:46:01</th>\n",
       "      <td>6.133665</td>\n",
       "      <td>-75.619203</td>\n",
       "      <td>2022-03-04 01:46:00</td>\n",
       "      <td>6.133427</td>\n",
       "      <td>-75.619231</td>\n",
       "      <td>0.037294</td>\n",
       "      <td>0.000278</td>\n",
       "      <td>134.26</td>\n",
       "    </tr>\n",
       "    <tr>\n",
       "      <th>2022-03-04 01:50:17</th>\n",
       "      <td>6.136952</td>\n",
       "      <td>-75.620365</td>\n",
       "      <td>2022-03-04 01:50:16</td>\n",
       "      <td>6.136096</td>\n",
       "      <td>-75.620175</td>\n",
       "      <td>0.134159</td>\n",
       "      <td>0.000278</td>\n",
       "      <td>482.97</td>\n",
       "    </tr>\n",
       "    <tr>\n",
       "      <th>...</th>\n",
       "      <td>...</td>\n",
       "      <td>...</td>\n",
       "      <td>...</td>\n",
       "      <td>...</td>\n",
       "      <td>...</td>\n",
       "      <td>...</td>\n",
       "      <td>...</td>\n",
       "      <td>...</td>\n",
       "    </tr>\n",
       "    <tr>\n",
       "      <th>2022-03-04 21:07:57</th>\n",
       "      <td>6.230341</td>\n",
       "      <td>-75.575192</td>\n",
       "      <td>2022-03-04 21:07:56</td>\n",
       "      <td>6.230118</td>\n",
       "      <td>-75.575203</td>\n",
       "      <td>0.034885</td>\n",
       "      <td>0.000278</td>\n",
       "      <td>125.59</td>\n",
       "    </tr>\n",
       "    <tr>\n",
       "      <th>2022-03-05 00:35:26</th>\n",
       "      <td>6.240605</td>\n",
       "      <td>-75.586868</td>\n",
       "      <td>2022-03-05 00:35:25</td>\n",
       "      <td>6.240894</td>\n",
       "      <td>-75.586622</td>\n",
       "      <td>0.045300</td>\n",
       "      <td>0.000278</td>\n",
       "      <td>163.08</td>\n",
       "    </tr>\n",
       "    <tr>\n",
       "      <th>2022-03-05 00:35:39</th>\n",
       "      <td>6.241035</td>\n",
       "      <td>-75.586590</td>\n",
       "      <td>2022-03-05 00:35:38</td>\n",
       "      <td>6.240789</td>\n",
       "      <td>-75.586643</td>\n",
       "      <td>0.038630</td>\n",
       "      <td>0.000278</td>\n",
       "      <td>139.07</td>\n",
       "    </tr>\n",
       "    <tr>\n",
       "      <th>2022-03-05 03:49:09</th>\n",
       "      <td>6.240770</td>\n",
       "      <td>-75.586191</td>\n",
       "      <td>2022-03-05 03:49:08</td>\n",
       "      <td>6.241262</td>\n",
       "      <td>-75.586928</td>\n",
       "      <td>0.077168</td>\n",
       "      <td>0.000278</td>\n",
       "      <td>277.81</td>\n",
       "    </tr>\n",
       "    <tr>\n",
       "      <th>2022-03-05 14:14:09</th>\n",
       "      <td>6.272768</td>\n",
       "      <td>-75.594450</td>\n",
       "      <td>2022-03-05 14:14:08</td>\n",
       "      <td>6.272372</td>\n",
       "      <td>-75.594521</td>\n",
       "      <td>0.062054</td>\n",
       "      <td>0.000278</td>\n",
       "      <td>223.40</td>\n",
       "    </tr>\n",
       "  </tbody>\n",
       "</table>\n",
       "<p>258 rows × 8 columns</p>\n",
       "</div>"
      ],
      "text/plain": [
       "                     latitude  longitude            old_time  old_latitude  \\\n",
       "time                                                                         \n",
       "2022-03-04 01:29:39  6.134296 -75.619850 2022-03-04 01:29:38      6.133525   \n",
       "2022-03-04 01:33:15  6.133692 -75.619152 2022-03-04 01:33:14      6.133378   \n",
       "2022-03-04 01:45:01  6.133706 -75.619164 2022-03-04 01:45:00      6.133419   \n",
       "2022-03-04 01:46:01  6.133665 -75.619203 2022-03-04 01:46:00      6.133427   \n",
       "2022-03-04 01:50:17  6.136952 -75.620365 2022-03-04 01:50:16      6.136096   \n",
       "...                       ...        ...                 ...           ...   \n",
       "2022-03-04 21:07:57  6.230341 -75.575192 2022-03-04 21:07:56      6.230118   \n",
       "2022-03-05 00:35:26  6.240605 -75.586868 2022-03-05 00:35:25      6.240894   \n",
       "2022-03-05 00:35:39  6.241035 -75.586590 2022-03-05 00:35:38      6.240789   \n",
       "2022-03-05 03:49:09  6.240770 -75.586191 2022-03-05 03:49:08      6.241262   \n",
       "2022-03-05 14:14:09  6.272768 -75.594450 2022-03-05 14:14:08      6.272372   \n",
       "\n",
       "                     old_longitude  distance_km  time_elapsed_hours  speed_kmh  \n",
       "time                                                                            \n",
       "2022-03-04 01:29:39     -75.619258     0.120884            0.000278     435.18  \n",
       "2022-03-04 01:33:15     -75.619179     0.049192            0.000278     177.09  \n",
       "2022-03-04 01:45:01     -75.619219     0.045103            0.000278     162.37  \n",
       "2022-03-04 01:46:01     -75.619231     0.037294            0.000278     134.26  \n",
       "2022-03-04 01:50:17     -75.620175     0.134159            0.000278     482.97  \n",
       "...                            ...          ...                 ...        ...  \n",
       "2022-03-04 21:07:57     -75.575203     0.034885            0.000278     125.59  \n",
       "2022-03-05 00:35:26     -75.586622     0.045300            0.000278     163.08  \n",
       "2022-03-05 00:35:39     -75.586643     0.038630            0.000278     139.07  \n",
       "2022-03-05 03:49:09     -75.586928     0.077168            0.000278     277.81  \n",
       "2022-03-05 14:14:09     -75.594521     0.062054            0.000278     223.40  \n",
       "\n",
       "[258 rows x 8 columns]"
      ]
     },
     "execution_count": 9,
     "metadata": {},
     "output_type": "execute_result"
    }
   ],
   "source": [
    "# For this example let's set a range between 0 and 120 km/h to ignore those gaps.\n",
    "\n",
    "pandas_df[pandas_df['speed_kmh'] > 120]"
   ]
  },
  {
   "cell_type": "code",
   "execution_count": 10,
   "metadata": {},
   "outputs": [
    {
     "name": "stderr",
     "output_type": "stream",
     "text": [
      "22/06/08 00:37:16 WARN WindowExec: No Partition Defined for Window operation! Moving all data to a single partition, this can cause serious performance degradation.\n",
      "22/06/08 00:37:20 WARN WindowExec: No Partition Defined for Window operation! Moving all data to a single partition, this can cause serious performance degradation.\n",
      "22/06/08 00:37:21 WARN WindowExec: No Partition Defined for Window operation! Moving all data to a single partition, this can cause serious performance degradation.\n",
      "                                                                                \r"
     ]
    },
    {
     "data": {
      "text/plain": [
       "{'total_time_ride_hours': 39.278888888890926,\n",
       " 'total_distance_ride_km': 126.66294716623023,\n",
       " 'avg_speed_ride_kmh': 21.59696776305019,\n",
       " 'avg_measurement_interval_seconds': 7.713085692467535}"
      ]
     },
     "execution_count": 10,
     "metadata": {},
     "output_type": "execute_result"
    }
   ],
   "source": [
    "summary_df = consolidated_df.na.drop().filter(col('speed_kmh') <= 120).select(\n",
    "    sum('time_elapsed_hours').alias('total_time_ride_hours'),\n",
    "    sum('distance_km').alias('total_distance_ride_km'),\n",
    "    avg('speed_kmh').alias('avg_speed_ride_kmh'),\n",
    "    (avg('time_elapsed_hours') * 3600).alias('avg_measurement_interval_seconds')\n",
    ")\n",
    "\n",
    "summary = summary_df.rdd.map(lambda row: row.asDict()).collect()[0]\n",
    "\n",
    "summary"
   ]
  },
  {
   "cell_type": "code",
   "execution_count": 12,
   "metadata": {},
   "outputs": [
    {
     "data": {
      "text/plain": [
       "<matplotlib.lines.Line2D at 0xffff631d5190>"
      ]
     },
     "execution_count": 12,
     "metadata": {},
     "output_type": "execute_result"
    },
    {
     "data": {
      "image/png": "[encoded data removed]",
      "text/plain": [
       "<Figure size 432x288 with 1 Axes>"
      ]
     },
     "metadata": {
      "needs_background": "light"
     },
     "output_type": "display_data"
    }
   ],
   "source": [
    "pandas_df[pandas_df['speed_kmh'] <= 120]['speed_kmh'].plot()\n",
    "plt.axhline(y=summary['avg_speed_ride_kmh'], color='red')"
   ]
  }
 ],
 "metadata": {
  "interpreter": {
   "hash": "0fe1ca4872e8b6e4dc707ce4a5b465dfe0915700da83801a228a551a0ea6d9d4"
  },
  "kernelspec": {
   "display_name": "Python 3 (ipykernel)",
   "language": "python",
   "name": "python3"
  },
  "language_info": {
   "codemirror_mode": {
    "name": "ipython",
    "version": 3
   },
   "file_extension": ".py",
   "mimetype": "text/x-python",
   "name": "python",
   "nbconvert_exporter": "python",
   "pygments_lexer": "ipython3",
   "version": "3.9.12"
  }
 },
 "nbformat": 4,
 "nbformat_minor": 2
}
